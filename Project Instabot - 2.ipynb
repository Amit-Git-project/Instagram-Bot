{
 "cells": [
  {
   "cell_type": "markdown",
   "id": "8ceb58e5",
   "metadata": {},
   "source": [
    "# InstaBot  - Part 2"
   ]
  },
  {
   "cell_type": "code",
   "execution_count": 1,
   "id": "90fac4f5",
   "metadata": {},
   "outputs": [],
   "source": [
    "#importing all the required libraries\n",
    "from selenium.webdriver.support import expected_conditions as EC\n",
    "from selenium.webdriver.support.wait import WebDriverWait\n",
    "from selenium import webdriver\n",
    "from selenium.webdriver.common.keys import Keys\n",
    "from selenium import webdriver\n",
    "from datetime import datetime, timedelta\n",
    "import json\n",
    "import time\n",
    "import pandas as pd\n",
    "import numpy as np\n",
    "import matplotlib.pyplot as plt"
   ]
  },
  {
   "cell_type": "code",
   "execution_count": 2,
   "id": "74ad3ff5",
   "metadata": {},
   "outputs": [],
   "source": [
    "#Intializing the broswer\n",
    "driver = webdriver.Chrome()"
   ]
  },
  {
   "cell_type": "code",
   "execution_count": 3,
   "id": "144c87d4",
   "metadata": {},
   "outputs": [],
   "source": [
    "#Opening Instagram Web Page\n",
    "driver.get('https://www.instagram.com/')"
   ]
  },
  {
   "cell_type": "code",
   "execution_count": 4,
   "id": "6a16d0ed",
   "metadata": {},
   "outputs": [],
   "source": [
    "username = \"dummy789546\"\n",
    "password = \"PASSWORD13579\""
   ]
  },
  {
   "cell_type": "code",
   "execution_count": 5,
   "id": "00fd4cc7",
   "metadata": {},
   "outputs": [],
   "source": [
    "# Intialising webdriverwait\n",
    "wait = WebDriverWait(driver,30)"
   ]
  },
  {
   "cell_type": "code",
   "execution_count": 6,
   "id": "7e181a23",
   "metadata": {},
   "outputs": [],
   "source": [
    "def login(username,password):\n",
    "    try:\n",
    "        #locating username box and assigning username\n",
    "        username_box = driver.find_element(\"name\",\"username\")\n",
    "        username_box.send_keys(username)\n",
    "        \n",
    "        # locating password box and assigning password\n",
    "        password_box = driver.find_element(\"name\",\"password\")\n",
    "        password_box.send_keys(password)\n",
    "\n",
    "        # locating login button and clicking it \n",
    "        login_btn = wait.until(EC.visibility_of_element_located\n",
    "                               ((\"xpath\",\"//button[contains(@class,' _acan _acap _acas _aj1- _ap30')]\")))\n",
    "        login_btn.click()\n",
    "        \n",
    "        # Handling \"Save login info\" by clicking not now\n",
    "        not_now_element = wait.until(EC.visibility_of_element_located(\n",
    "            (\"class name\",\"_ac8f\")))\n",
    "        not_now_element.click()\n",
    "        \n",
    "        # Handling \"Turn on notifications\" by clicking not now\n",
    "        not_now_element = wait.until(EC.visibility_of_element_located(\n",
    "            (\"xpath\",\"//button[contains(@class,'_a9-- _ap36 _a9_1')]\")))\n",
    "        not_now_element.click()\n",
    "        \n",
    "    except:\n",
    "        \n",
    "        # Handling any encountered errors during this process\n",
    "        print(\"Some Error Encountered\")"
   ]
  },
  {
   "cell_type": "code",
   "execution_count": 7,
   "id": "57259519",
   "metadata": {},
   "outputs": [],
   "source": [
    "login(username,password)"
   ]
  },
  {
   "cell_type": "markdown",
   "id": "8c1a9997",
   "metadata": {},
   "source": [
    "### 1. Now your friend has followed a lot of different food bloggers, he needs to analyse the habits of these bloggers.\n",
    "1. From the list of instagram handles you obtained when you searched ‘food’ in previous project. Open the first 10 handles and find the top 5 which have the highest number of followers\n",
    "2. Now Find the number of posts these handles have done in the previous 3 days.\n",
    "3. Depict this information using a suitable graph."
   ]
  },
  {
   "cell_type": "code",
   "execution_count": 8,
   "id": "545fc9dc",
   "metadata": {},
   "outputs": [],
   "source": [
    "def Search(text):\n",
    "    try:\n",
    "        # locating Search icon\n",
    "        search_icon =  wait.until(\n",
    "                EC.presence_of_element_located((\"xpath\",\"/html/body/div[2]/div/div/div[2]/div/div/div[1]/div[1]/div[1]/div/div/div/div/div[2]/div[2]/span/div/a/div\")\n",
    "                                                   ))\n",
    "        \n",
    "        # clicking it to appear search icon\n",
    "        search_icon.click()\n",
    "        \n",
    "        # Waiting and Locating Search bar to write text\n",
    "        search_bar = wait.until(EC.presence_of_element_located((\"xpath\",\"//input[@aria-label='Search input']\")))\n",
    "        \n",
    "        #Sending text \"food\" in Search Bar\n",
    "        search_bar.send_keys(text)\n",
    "        \n",
    "        # waiting for dropdown menu appear\n",
    "        time.sleep(5)\n",
    "        \n",
    "        dropdownMenu = wait.until(EC.presence_of_element_located((\"xpath\",\"//div[contains(@class,'x6s0dn4 x78zum5 xdt5ytf x5yr21d x1odjw0f x1n2onr6 xh8yej3')]\")\n",
    "                                  ))\n",
    "        # Waiting for all instagram handle to appear\n",
    "        instagram_handles = WebDriverWait(dropdownMenu,10).until(EC.presence_of_all_elements_located(\n",
    "            (\"xpath\",\".//span[contains(@class,'x1lliihq x1plvlek xryxfnj x1n2onr6 x193iq5w xeuugli x1fj9vlw x13faqbe x1vvkbs x1s928wv xhkezso x1gmr53x x1cpjm7i x1fgarty x1943h6x x1i0vuye xvs91rp x1s688f x5n08af x10wh9bi x1wdrske x8viiok x18hxmgj')]\"))\n",
    "          )\n",
    "        \n",
    "        # Collecting all instagram handle names excluding \"#\" tag\n",
    "        names = [i.text for i in instagram_handles if len(i.text)>0 and i.text[0] != \"#\"]\n",
    "        \n",
    "        #closing search icon\n",
    "        search_icon.click()\n",
    "        \n",
    "        # returning the list of instagram handles\n",
    "        return names\n",
    "        \n",
    "    \n",
    "    except:\n",
    "        \n",
    "        # Handling any encountered errors during this process\n",
    "        print(\"Some Error Encountered\")"
   ]
  },
  {
   "cell_type": "code",
   "execution_count": 9,
   "id": "ec4d6076",
   "metadata": {},
   "outputs": [
    {
     "name": "stdout",
     "output_type": "stream",
     "text": [
      "['odisha_food_lover', 'foodies_of_bhubaneswar', 'pepper_.pots', 'odishafoodcrush', 'foodfindo', '_.foodie._.flavors._', 'food', 'authentic_odia_food', 'foodalicious_foodies', 'foodishah']\n"
     ]
    }
   ],
   "source": [
    "# Collecting all instagram handle names that appear after typing food and choosing only first 10\n",
    "names = Search(\"food\")[:10]\n",
    "print(names)"
   ]
  },
  {
   "cell_type": "code",
   "execution_count": 10,
   "id": "b009f82c",
   "metadata": {},
   "outputs": [],
   "source": [
    "def followersCounter(profileName):\n",
    "    \n",
    "    # Intialising a dictionary to store account name with their followers\n",
    "    account_followers = {}\n",
    "    \n",
    "    # Iterating through profile names\n",
    "    for name in profileName:\n",
    "        \n",
    "        # Opening the profile\n",
    "        driver.get(f'https://www.instagram.com/{name}')\n",
    "\n",
    "        # Waiting for profile to load properly\n",
    "        time.sleep(3)\n",
    "\n",
    "        # Finding number of followers\n",
    "        followers = wait.until(EC.presence_of_element_located(\n",
    "        ('xpath','/html/body/div[2]/div/div/div[2]/div/div/div[1]/div[1]/div[2]/div[2]/section/main/div/header/section/ul/li[2]/a/span/span'))\n",
    "                              ).text\n",
    "        \n",
    "        # if there is \",\" in followers we will change it convert in into integer\n",
    "        if ',' in followers:\n",
    "            followers = followers.replace(',',\"\")\n",
    "        else:\n",
    "            # if K/M found in followers count then we will multiply them with respect to their integer value\n",
    "            replace_elements = {'K': 1000, 'M': 1000000}\n",
    "            \n",
    "            # Converting K/M into integer values and getting number of followers in integers\n",
    "            if followers[-1] in replace_elements:\n",
    "                followers = float(followers[:-1]) * replace_elements[followers[-1]]\n",
    "        \n",
    "        # Assigning account names with their followers count\n",
    "        account_followers[name] = int(followers)\n",
    "\n",
    "        # Making profile stable after fetching followers\n",
    "        time.sleep(1.5)\n",
    "        \n",
    "    # returning the dictionary\n",
    "    return account_followers\n",
    "    "
   ]
  },
  {
   "cell_type": "code",
   "execution_count": null,
   "id": "bc3f2a7d",
   "metadata": {},
   "outputs": [],
   "source": [
    "account_followers = followersCounter(names)"
   ]
  },
  {
   "cell_type": "code",
   "execution_count": null,
   "id": "d609d40f",
   "metadata": {},
   "outputs": [],
   "source": [
    "account_followers = dict(sorted(account_followers.items(),key=lambda item : item[1]*-1)[:5])"
   ]
  },
  {
   "cell_type": "code",
   "execution_count": null,
   "id": "6f813625",
   "metadata": {},
   "outputs": [],
   "source": [
    "top5Accounts = list(account_followers.keys()) "
   ]
  },
  {
   "cell_type": "code",
   "execution_count": null,
   "id": "4572d4a9",
   "metadata": {},
   "outputs": [],
   "source": [
    "print(top5Accounts)"
   ]
  },
  {
   "cell_type": "code",
   "execution_count": null,
   "id": "45c5dcfd",
   "metadata": {},
   "outputs": [],
   "source": [
    "def countHelper(nextbtn,count,numberofdays):\n",
    "    \n",
    "    while True:\n",
    "        \n",
    "        # Clicking next button\n",
    "        nextbtn.click()\n",
    "        \n",
    "        # waiting for next post to open\n",
    "        time.sleep(1.2)\n",
    "        \n",
    "         #getting date of the the post\n",
    "        temp = wait.until(EC.presence_of_element_located(('class name','_aaqe')))\n",
    "\n",
    "        #getting date in string format\n",
    "        date_string = temp.get_attribute('datetime')\n",
    "\n",
    "        #converting into date format\n",
    "        date = datetime.strptime(date_string[0:19], \"%Y-%m-%dT%H:%M:%S\")\n",
    "\n",
    "        # Fetching current year\n",
    "        year = datetime.now().year\n",
    "        # Fetching current month\n",
    "        month = datetime.now().month\n",
    "    \n",
    "    \n",
    "        # Checking the year\n",
    "        if date.year == year and date.month == month:\n",
    "            # If post is not  under current circumstances then return\n",
    "            if (datetime.now() - date).days >= numberofdays:\n",
    "                return count\n",
    "            \n",
    "            # If post is under current circumstances then incrase by 1\n",
    "            elif (datetime.now() - date).days < numberofdays:\n",
    "                count+=1"
   ]
  },
  {
   "cell_type": "code",
   "execution_count": null,
   "id": "a902d20a",
   "metadata": {},
   "outputs": [],
   "source": [
    "def countposts(name,numberofdays):\n",
    "    \n",
    "    # Opening the profile\n",
    "    driver.get(f'https://www.instagram.com/{name}')\n",
    "    \n",
    "    # waiting for open\n",
    "    time.sleep(2)\n",
    "    \n",
    "    # Fetching first post\n",
    "    firstpost = wait.until(EC.presence_of_element_located(('class name','_aagw')))\n",
    "    firstpost.click()\n",
    "    \n",
    "    # Waiting to open post\n",
    "    time.sleep(1.2)\n",
    "    \n",
    "    count = 0\n",
    "    \n",
    "    #getting date of the the post\n",
    "    temp = wait.until(EC.presence_of_element_located(('class name','_aaqe')))\n",
    "            \n",
    "    #getting date in string format\n",
    "    date_string = temp.get_attribute('datetime')\n",
    "        \n",
    "    #converting into date format\n",
    "    date = datetime.strptime(date_string[0:19], \"%Y-%m-%dT%H:%M:%S\")\n",
    "        \n",
    "    # Fetching current year\n",
    "    year = datetime.now().year\n",
    "    \n",
    "    # Fetching current month\n",
    "    month = datetime.now().month\n",
    "    \n",
    "    if date.year == year and date.month == month:\n",
    "            # If post is not  under current circumstances then return\n",
    "            if (datetime.now() - date).days >= numberofdays:\n",
    "                    return count\n",
    "\n",
    "            # If post is under current circumstances then incrase by 1\n",
    "            elif (datetime.now() - date).days < numberofdays:\n",
    "                    count+=1\n",
    "            \n",
    "                    \n",
    "    # Fetching next button        \n",
    "    next_btn = wait.until(EC.presence_of_element_located(\n",
    "    (\"class name\",'_abl-')))\n",
    "    \n",
    "    newcount = countHelper(next_btn,count,numberofdays)\n",
    "    \n",
    "    return newcount"
   ]
  },
  {
   "cell_type": "code",
   "execution_count": null,
   "id": "f40965e7",
   "metadata": {},
   "outputs": [],
   "source": [
    "account_posts = {}\n",
    "for name in top5Accounts:\n",
    "    posts = countposts(name,3)\n",
    "    account_posts[name] = posts"
   ]
  },
  {
   "cell_type": "code",
   "execution_count": null,
   "id": "ebd2d795",
   "metadata": {},
   "outputs": [],
   "source": [
    "driver.back()"
   ]
  },
  {
   "cell_type": "code",
   "execution_count": null,
   "id": "3ae483d9",
   "metadata": {},
   "outputs": [],
   "source": [
    "# Showing top 5 accounts with their posts\n",
    "print(account_posts)"
   ]
  },
  {
   "cell_type": "code",
   "execution_count": null,
   "id": "e51d135d",
   "metadata": {},
   "outputs": [],
   "source": [
    "labels = list(account_posts.keys())\n",
    "values = list(account_posts.values())\n",
    "\n",
    "plt.bar(labels, values)\n",
    "plt.xlabel('Instagram Accounts')\n",
    "plt.ylabel('Posts')\n",
    "plt.title('Last 3 Days Posts')\n",
    "plt.show()\n"
   ]
  },
  {
   "cell_type": "markdown",
   "id": "54dbe917",
   "metadata": {},
   "source": [
    "## 2.Your friend also needs a list of hashtags that he should use in his posts.\n",
    "1. Open the 5 handles you obtained in the last question, and scrape the content of the first 10 posts of each handle.\n",
    "2. Prepare a list of all words used in all the scraped posts and calculate the frequency of each word.\n",
    "3. Create a csv file with two columns : the word and its frequency\n",
    "4. Now, find the hashtags that were most popular among these bloggers\n",
    "5. Plot a Pie Chart of the top 5 hashtags obtained and the number of times they were used by these bloggers in the scraped posts."
   ]
  },
  {
   "cell_type": "code",
   "execution_count": null,
   "id": "f4772afb",
   "metadata": {},
   "outputs": [],
   "source": [
    "top5Accounts"
   ]
  },
  {
   "cell_type": "code",
   "execution_count": null,
   "id": "0b26a814",
   "metadata": {},
   "outputs": [],
   "source": [
    "def contentHelper(nextbtn,contentstorelist,count,words):\n",
    "    \n",
    "    while count < 10:\n",
    "        \n",
    "        \n",
    "        # Clicking next button\n",
    "        nextbtn.click()\n",
    "        \n",
    "        # waiting for next post to open\n",
    "        time.sleep(1.2)\n",
    "        \n",
    "        # Fetching the content of first post\n",
    "        postText = wait.until(EC.presence_of_element_located(\n",
    "        ('class name','_a9zs'))).text\n",
    "\n",
    "        # storing in content list\n",
    "        contentstorelist.append([postText])\n",
    "        \n",
    "        \n",
    "        # Fetching the content of first post\n",
    "        wordsfounder = wait.until(EC.presence_of_element_located(\n",
    "        ('class name','_a9zs'))).text.split()\n",
    "\n",
    "        # Collecting all words\n",
    "        words.append(wordsfounder)\n",
    "\n",
    "        # increasing count as we got our post\n",
    "        count+=1\n",
    "        \n",
    "    return contentstorelist,words"
   ]
  },
  {
   "cell_type": "code",
   "execution_count": null,
   "id": "3ab5d831",
   "metadata": {},
   "outputs": [],
   "source": [
    "def contentfetcher(profilename):\n",
    "    \n",
    "    # Storing all content\n",
    "    content = []\n",
    "    \n",
    "    # for storing all words creating a list\n",
    "    words = []\n",
    "    \n",
    "    # Opening the profile\n",
    "    driver.get(f'https://www.instagram.com/{name}')\n",
    "    \n",
    "    # waiting for open\n",
    "    time.sleep(2)\n",
    "    \n",
    "    # Fetching first post\n",
    "    firstpost = wait.until(EC.presence_of_element_located(('class name','_aagw')))\n",
    "    firstpost.click()\n",
    "    \n",
    "    # Waiting to open post\n",
    "    time.sleep(1.2)\n",
    "    \n",
    "    # counting till we get 10 posts\n",
    "    count = 0\n",
    "    \n",
    "    # Fetching the content of first post\n",
    "    postText = wait.until(EC.presence_of_element_located(\n",
    "    ('class name','_a9zs'))).text\n",
    "    \n",
    "    # storing in content list\n",
    "    content.append([postText])\n",
    "    \n",
    "    # Fetching the content of first post\n",
    "    wordsfounder = wait.until(EC.presence_of_element_located(\n",
    "    ('class name','_a9zs'))).text.split()\n",
    "    \n",
    "    # Collecting all words\n",
    "    words.append(wordsfounder)\n",
    "    \n",
    "    # increasing count as we got our post\n",
    "    count+=1\n",
    "    \n",
    "    # Fetching next button        \n",
    "    next_btn = wait.until(EC.presence_of_element_located(\n",
    "    (\"class name\",'_abl-')))\n",
    "    \n",
    "    contentlist,wordslist = contentHelper(next_btn,content,count,words)\n",
    "    \n",
    "    return contentlist,wordslist\n",
    "    "
   ]
  },
  {
   "cell_type": "code",
   "execution_count": null,
   "id": "dbf87a05",
   "metadata": {},
   "outputs": [],
   "source": [
    "# Collecting all the 10 contents and their words\n",
    "contents = []\n",
    "wordscollect = []\n",
    "for name in top5Accounts:\n",
    "    content,word = contentfetcher(name)\n",
    "    contents.append(content)\n",
    "    wordscollect.append(word)"
   ]
  },
  {
   "cell_type": "code",
   "execution_count": null,
   "id": "4c56e4fb",
   "metadata": {},
   "outputs": [],
   "source": [
    "# getting back\n",
    "driver.back()"
   ]
  },
  {
   "cell_type": "code",
   "execution_count": null,
   "id": "11dd9432",
   "metadata": {},
   "outputs": [],
   "source": [
    "# Showing all the 10 contents of each instagram handle\n",
    "for i in contents:\n",
    "    for j in i:\n",
    "        print(j)\n",
    "    print()"
   ]
  },
  {
   "cell_type": "code",
   "execution_count": null,
   "id": "05eada9d",
   "metadata": {},
   "outputs": [],
   "source": [
    "words_freq = {}\n",
    "for i in wordscollect:\n",
    "    for j in i:\n",
    "        for w in j:\n",
    "            w = w.strip()\n",
    "            words_freq[w] = words_freq.get(w,0)+1"
   ]
  },
  {
   "cell_type": "code",
   "execution_count": null,
   "id": "d8c3b39c",
   "metadata": {},
   "outputs": [],
   "source": [
    "words_freq"
   ]
  },
  {
   "cell_type": "code",
   "execution_count": null,
   "id": "64c25636",
   "metadata": {},
   "outputs": [],
   "source": [
    "df = pd.DataFrame(list(words_freq.items()),columns=['Words','Frequency'])\n",
    "df.to_csv(\"WordsFrequency.csv\",index=False)"
   ]
  },
  {
   "cell_type": "code",
   "execution_count": null,
   "id": "9056f43c",
   "metadata": {},
   "outputs": [],
   "source": [
    "# Showing all popular hashtags\n",
    "hastags =  df[df['Words'].str.startswith('#')].sort_values(by='Frequency',ascending=False)\n",
    "for i in hastags['Words']:\n",
    "    print(i)"
   ]
  },
  {
   "cell_type": "code",
   "execution_count": null,
   "id": "2b64aba1",
   "metadata": {},
   "outputs": [],
   "source": [
    "# Fetching top 5 hastags\n",
    "top5Hastagas = df[df['Words'].str.startswith('#')].sort_values(by='Frequency',ascending=False)[:5]\n",
    "top5Hastagas"
   ]
  },
  {
   "cell_type": "code",
   "execution_count": null,
   "id": "84ae0e54",
   "metadata": {},
   "outputs": [],
   "source": [
    "# Plotting pie chart of top 5 hashtags\n",
    "plt.pie(top5Hastagas['Frequency'],labels=top5Hastagas['Words'],autopct=\"%0.2f%%\")\n",
    "plt.show()"
   ]
  },
  {
   "cell_type": "markdown",
   "id": "8c451cef",
   "metadata": {},
   "source": [
    "### You need to also calculate average followers : likes ratio for the obtained handles. Followers : Likes ratio is calculated as follows:\n",
    "1. Find out the likes of the top 10 posts of the 5 handles obtained earlier.\n",
    "2. Calculate the average likes for a handle.\n",
    "3. Divide the average likes obtained from the number of followers of the handle to get the average followers:like ratio of each handle.\n",
    "4. Create a bar graph to depict the above obtained information."
   ]
  },
  {
   "cell_type": "code",
   "execution_count": null,
   "id": "0f58edfa",
   "metadata": {},
   "outputs": [],
   "source": [
    "def likehelper(nextbtn,totalLikes,count):\n",
    "    \n",
    "    while count < 10:\n",
    "        \n",
    "        \n",
    "        # Clicking next button\n",
    "        nextbtn.click()\n",
    "        \n",
    "        # waiting for next post to open\n",
    "        time.sleep(1.2)\n",
    "        \n",
    "        try:\n",
    "            # finding number of likes\n",
    "            likes = int(wait.until(EC.presence_of_element_located(\n",
    "                                           (\"xpath\",\"//span[contains(@class,'x193iq5w xeuugli x1fj9vlw x13faqbe x1vvkbs xt0psk2 x1i0vuye xvs91rp x1s688f x5n08af x10wh9bi x1wdrske x8viiok x18hxmgj')]\")\n",
    "                        )).text.replace(\",\",\"\").split()[0])\n",
    "        except:\n",
    "            # if error than means the post has no likes\n",
    "            likes = 0\n",
    "        \n",
    "        # adding number of likes\n",
    "        totalLikes += likes\n",
    "    \n",
    "        # increasing count as we got our post\n",
    "        count+=1\n",
    "        \n",
    "    return totalLikes"
   ]
  },
  {
   "cell_type": "code",
   "execution_count": null,
   "id": "74b6b79d",
   "metadata": {},
   "outputs": [],
   "source": [
    "def likefetcher(profilename):\n",
    "    \n",
    "    # creating a variable to count likes\n",
    "    totalLikes = 0\n",
    "    \n",
    "    # Opening the profile\n",
    "    driver.get(f'https://www.instagram.com/{name}')\n",
    "    \n",
    "    # waiting for open\n",
    "    time.sleep(2)\n",
    "    \n",
    "    # Fetching first post\n",
    "    firstpost = wait.until(EC.presence_of_element_located(('class name','_aagw')))\n",
    "    firstpost.click()\n",
    "    \n",
    "    # Waiting to open post\n",
    "    time.sleep(1.2)\n",
    "    \n",
    "    # counting till we get 10 posts\n",
    "    count = 0\n",
    "    \n",
    "    try:\n",
    "        # finding number of likes\n",
    "        likes = int(wait.until(EC.presence_of_element_located(\n",
    "                                       (\"xpath\",\"//span[contains(@class,'x193iq5w xeuugli x1fj9vlw x13faqbe x1vvkbs xt0psk2 x1i0vuye xvs91rp x1s688f x5n08af x10wh9bi x1wdrske x8viiok x18hxmgj')]\")\n",
    "                    )).text.replace(\",\",\"\").split()[0])\n",
    "    except:\n",
    "        # if error that means post has 0 likes\n",
    "        likes = 0\n",
    "    \n",
    "    # adding number of likes\n",
    "    totalLikes += likes\n",
    "    \n",
    "    # increasing count as we got our post\n",
    "    count+=1\n",
    "    \n",
    "    # Fetching next button        \n",
    "    next_btn = wait.until(EC.presence_of_element_located(\n",
    "    (\"class name\",'_abl-')))\n",
    "    \n",
    "    # getting total number of likes\n",
    "    AllLikes = likehelper(next_btn,totalLikes,count)\n",
    "    \n",
    "    # returning total number of likes\n",
    "    return AllLikes\n",
    "    "
   ]
  },
  {
   "cell_type": "code",
   "execution_count": null,
   "id": "73a7f5ca",
   "metadata": {},
   "outputs": [],
   "source": [
    "# Collecting all the likess with their accounts\n",
    "account_likes={}\n",
    "for name in top5Accounts:\n",
    "    account_likes[name] = likefetcher(name)"
   ]
  },
  {
   "cell_type": "code",
   "execution_count": null,
   "id": "0d7ac4b7",
   "metadata": {},
   "outputs": [],
   "source": [
    "# Showing total number of likes of top 5 handles\n",
    "account_likes"
   ]
  },
  {
   "cell_type": "code",
   "execution_count": null,
   "id": "59ba3fd0",
   "metadata": {},
   "outputs": [],
   "source": [
    "# Calculating average number of likes of top 5 handles\n",
    "average_likes_handle = {}\n",
    "for i in account_likes:\n",
    "    average_likes_handle[i] = account_likes[i]//10"
   ]
  },
  {
   "cell_type": "code",
   "execution_count": null,
   "id": "5eefe36f",
   "metadata": {},
   "outputs": [],
   "source": [
    "# showing average number of likes of top 5 handles\n",
    "average_likes_handle"
   ]
  },
  {
   "cell_type": "code",
   "execution_count": null,
   "id": "ffcfab95",
   "metadata": {},
   "outputs": [],
   "source": [
    "ratio_likes_followers = {}\n",
    "for i,j in zip(average_likes_handle,account_followers):\n",
    "    if average_likes_handle[i]==0:\n",
    "        ratio_likes_followers[i] = 0\n",
    "    else:\n",
    "        ratio_likes_followers[i] = account_followers[i]//average_likes_handle[i]"
   ]
  },
  {
   "cell_type": "code",
   "execution_count": null,
   "id": "334eb510",
   "metadata": {},
   "outputs": [],
   "source": [
    "ratio_likes_followers"
   ]
  },
  {
   "cell_type": "code",
   "execution_count": null,
   "id": "20cecb5c",
   "metadata": {},
   "outputs": [],
   "source": [
    "labels = list(ratio_likes_followers.keys())\n",
    "values = list(ratio_likes_followers.values())\n",
    "\n",
    "plt.bar(labels, values)\n",
    "plt.xlabel('Instagram Accounts')\n",
    "plt.ylabel('Ratio')\n",
    "plt.title('Ratio of Followers : Likes')\n",
    "plt.show()\n"
   ]
  },
  {
   "cell_type": "code",
   "execution_count": null,
   "id": "a8dc9b3e",
   "metadata": {},
   "outputs": [],
   "source": [
    "driver.back()"
   ]
  }
 ],
 "metadata": {
  "kernelspec": {
   "display_name": "Python 3 (ipykernel)",
   "language": "python",
   "name": "python3"
  },
  "language_info": {
   "codemirror_mode": {
    "name": "ipython",
    "version": 3
   },
   "file_extension": ".py",
   "mimetype": "text/x-python",
   "name": "python",
   "nbconvert_exporter": "python",
   "pygments_lexer": "ipython3",
   "version": "3.9.13"
  }
 },
 "nbformat": 4,
 "nbformat_minor": 5
}
